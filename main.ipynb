{
 "cells": [
  {
   "cell_type": "code",
   "execution_count": null,
   "id": "e5279796",
   "metadata": {},
   "outputs": [
    {
     "name": "stderr",
     "output_type": "stream",
     "text": [
      "C:\\Users\\Asus\\anaconda3\\lib\\site-packages\\sklearn\\base.py:329: UserWarning: Trying to unpickle estimator LogisticRegression from version 0.24.1 when using version 1.0.2. This might lead to breaking code or invalid results. Use at your own risk. For more info please refer to:\n",
      "https://scikit-learn.org/stable/modules/model_persistence.html#security-maintainability-limitations\n",
      "  warnings.warn(\n"
     ]
    },
    {
     "data": {
      "application/vnd.jupyter.widget-view+json": {
       "model_id": "1c2714202a624450b04f2cef92980c8b",
       "version_major": 2,
       "version_minor": 0
      },
      "text/plain": [
       "  0%|          | 0/1 [00:00<?, ?it/s]"
      ]
     },
     "metadata": {},
     "output_type": "display_data"
    }
   ],
   "source": [
    "import PySimpleGUI as sg\n",
    "import docx2pdf\n",
    "import webbrowser\n",
    "from docx import Document\n",
    "import pickle\n",
    "import numpy as np\n",
    "import helper\n",
    "from datetime import date\n",
    "\n",
    "\n",
    "col=helper.col2()\n",
    "pickled_model = pickle.load(open('model1.pkl', 'rb'))\n",
    "\n",
    "# Define the layout of the input form\n",
    "\n",
    "layout = [\n",
    "    [sg.Column([[sg.Text('Name:'), sg.InputText(key='name', size=(20, 1))],\n",
    "                [sg.Text('Gender:'), sg.InputCombo(['Male', 'Female'], size=(17, 1), key='gender')],\n",
    "                [sg.Text('Age :'), sg.InputText(key='age', size=(21, 1))],\n",
    "                [sg.Text('Contact No:'), sg.InputText(key='contact', size=(16, 1))],\n",
    "                \n",
    "                [sg.Text('BP:'), sg.InputText(key='bp', size=(22, 1))],\n",
    "                [sg.Text('Temp :'), sg.InputText(key='temp', size=(20, 1))],\n",
    "                [sg.Text('SpO2 :'), sg.InputText(key='spo2', size=(20, 1))],\n",
    "                \n",
    "    ]),\n",
    "     sg.Column([[sg.Text(col[i]), sg.Radio(\"Yes\", group_id=i, key=i), sg.Radio(\"No\", group_id=i,default=True, key=i)] for i in range(0,14)], element_justification='l'),\n",
    "     sg.Column([[sg.Text(col[i]), sg.Radio(\"Yes\", group_id=i, key=i), sg.Radio(\"No\", group_id=i,default=True, key=i)] for i in range(14,28)], element_justification='l'),\n",
    "     sg.Column([[sg.Text(col[i]), sg.Radio(\"Yes\", group_id=i, key=i), sg.Radio(\"No\", group_id=i,default=True, key=i)] for i in range(28,42)], element_justification='l'),\n",
    "     \n",
    "    ]\n",
    "]\n",
    "\n",
    "layout.append([sg.Button('Submit')],)\n",
    "message=''\n",
    "layout.append([sg.Text('Result:', size=(20, 1)), sg.Text(message, size=(20, 1), key='result')])\n",
    "# Create the PySimpleGUI window with the layout\n",
    "window = sg.Window('User Input Form', layout)\n",
    "\n",
    "# Define the path of the docx file to be opened and updated\n",
    "docx_path = \"R_copy.docx\"\n",
    "\n",
    "# Loop to keep the window open until user closes or submits the form\n",
    "while True:\n",
    "    event, values = window.read()\n",
    "    \n",
    "    # If user clicks cancel or closes the window, exit the loop\n",
    "    if event == sg.WINDOW_CLOSED:\n",
    "        break\n",
    "\n",
    "    # If user clicks submit, display the input values and result in the output text field, update the docx file, and open the pdf in a browser\n",
    "    if event == 'Submit':\n",
    "        x_find=[]\n",
    "        for i in range(0,42):\n",
    "            \n",
    "            if values[i]==True:\n",
    "                x_find.append(1)\n",
    "            else:\n",
    "                    x_find.append(0)\n",
    "        \n",
    "    \n",
    "        \n",
    "        y = np.array(x_find)\n",
    "        y\n",
    "        y_find=pickled_model.predict(y.reshape(1, -1))\n",
    "        \n",
    "        val=str(y_find)\n",
    "        message=y_find[0]\n",
    "        \n",
    "        # Open the docx file and update the values of name, gender, and temperature\n",
    "        doc = Document(docx_path)\n",
    "        today = date.today()\n",
    "        def dsa(a,b):\n",
    "            if a in paragraph.text:\n",
    "                paragraph.text = paragraph.text.replace(a,b)\n",
    "                    \n",
    "        for paragraph in doc.paragraphs:\n",
    "            dsa('P_name ',values['name'])\n",
    "            dsa('Possible_sym',str(helper.get_symptoms(y_find[0])))\n",
    "            dsa('2023-04-28',str(today))\n",
    "            dsa('P_age', values['age'])\n",
    "            dsa('P_gen', values['gender'])\n",
    "            dsa('8976543210', values['contact'])\n",
    "            dsa('100', values['temp'])\n",
    "            dsa('110', values['bp'])\n",
    "            dsa('98', values['spo2'])\n",
    "            dsa('ABCDEF', str(y_find[0]))\n",
    "            \n",
    "            \n",
    "        #doc.save('output.pdf')\n",
    "        doc.save('output.docx')\n",
    "        docx2pdf.convert('output.docx','output.pdf')\n",
    "        #doc.remove('output.docx')\n",
    "        webbrowser.open_new_tab('output.pdf')\n",
    "\n",
    "\n",
    "# Close the window when the loop exits\n",
    "window.close()\n"
   ]
  },
  {
   "cell_type": "code",
   "execution_count": null,
   "id": "867087c7",
   "metadata": {},
   "outputs": [],
   "source": []
  }
 ],
 "metadata": {
  "kernelspec": {
   "display_name": "Python 3 (ipykernel)",
   "language": "python",
   "name": "python3"
  },
  "language_info": {
   "codemirror_mode": {
    "name": "ipython",
    "version": 3
   },
   "file_extension": ".py",
   "mimetype": "text/x-python",
   "name": "python",
   "nbconvert_exporter": "python",
   "pygments_lexer": "ipython3",
   "version": "3.9.12"
  }
 },
 "nbformat": 4,
 "nbformat_minor": 5
}
